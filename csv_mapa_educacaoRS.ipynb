{
 "cells": [
  {
   "cell_type": "markdown",
   "metadata": {},
   "source": [
    "#Mapa das escolas do Rio Grande do Sul por taxa de distorção entre idade e série"
   ]
  },
  {
   "cell_type": "code",
   "execution_count": 2,
   "metadata": {},
   "outputs": [],
   "source": [
    "import pandas as pd\n",
    "%matplotlib inline\n",
    "import folium "
   ]
  },
  {
   "cell_type": "code",
   "execution_count": 4,
   "metadata": {},
   "outputs": [
    {
     "data": {
      "text/html": [
       "<div>\n",
       "<style scoped>\n",
       "    .dataframe tbody tr th:only-of-type {\n",
       "        vertical-align: middle;\n",
       "    }\n",
       "\n",
       "    .dataframe tbody tr th {\n",
       "        vertical-align: top;\n",
       "    }\n",
       "\n",
       "    .dataframe thead th {\n",
       "        text-align: right;\n",
       "    }\n",
       "</style>\n",
       "<table border=\"1\" class=\"dataframe\">\n",
       "  <thead>\n",
       "    <tr style=\"text-align: right;\">\n",
       "      <th></th>\n",
       "      <th>Município</th>\n",
       "      <th>ibge</th>\n",
       "      <th>latitude</th>\n",
       "      <th>longitude</th>\n",
       "      <th>/Educação/Ens...de Série/Total 2013 (-)</th>\n",
       "    </tr>\n",
       "  </thead>\n",
       "  <tbody>\n",
       "    <tr>\n",
       "      <th>0</th>\n",
       "      <td>Aceguá</td>\n",
       "      <td>4300034</td>\n",
       "      <td>-31.86076</td>\n",
       "      <td>-54.16706</td>\n",
       "      <td>25,7</td>\n",
       "    </tr>\n",
       "    <tr>\n",
       "      <th>1</th>\n",
       "      <td>Água Santa</td>\n",
       "      <td>4300059</td>\n",
       "      <td>-28.16720</td>\n",
       "      <td>-52.03100</td>\n",
       "      <td>14,7</td>\n",
       "    </tr>\n",
       "    <tr>\n",
       "      <th>2</th>\n",
       "      <td>Agudo</td>\n",
       "      <td>4300109</td>\n",
       "      <td>-29.64470</td>\n",
       "      <td>-53.25150</td>\n",
       "      <td>26,4</td>\n",
       "    </tr>\n",
       "    <tr>\n",
       "      <th>3</th>\n",
       "      <td>Ajuricaba</td>\n",
       "      <td>4300208</td>\n",
       "      <td>-28.23420</td>\n",
       "      <td>-53.77570</td>\n",
       "      <td>24,1</td>\n",
       "    </tr>\n",
       "    <tr>\n",
       "      <th>4</th>\n",
       "      <td>Alecrim</td>\n",
       "      <td>4300307</td>\n",
       "      <td>-27.65790</td>\n",
       "      <td>-54.76490</td>\n",
       "      <td>18,9</td>\n",
       "    </tr>\n",
       "  </tbody>\n",
       "</table>\n",
       "</div>"
      ],
      "text/plain": [
       "    Município     ibge  latitude  longitude  \\\n",
       "0      Aceguá  4300034 -31.86076  -54.16706   \n",
       "1  Água Santa  4300059 -28.16720  -52.03100   \n",
       "2       Agudo  4300109 -29.64470  -53.25150   \n",
       "3   Ajuricaba  4300208 -28.23420  -53.77570   \n",
       "4     Alecrim  4300307 -27.65790  -54.76490   \n",
       "\n",
       "  /Educação/Ens...de Série/Total 2013 (-)  \n",
       "0                                    25,7  \n",
       "1                                    14,7  \n",
       "2                                    26,4  \n",
       "3                                    24,1  \n",
       "4                                    18,9  "
      ]
     },
     "execution_count": 4,
     "metadata": {},
     "output_type": "execute_result"
    }
   ],
   "source": [
    "#Carregando o arquivo csv\n",
    "df = pd.read_csv('fee-2013-mun-taxa-de-distorcao-idade-serie-total-102524.csv', encoding= 'latin1', skiprows=1)\n",
    "df.head()"
   ]
  },
  {
   "cell_type": "code",
   "execution_count": 7,
   "metadata": {},
   "outputs": [
    {
     "data": {
      "text/html": [
       "<div>\n",
       "<style scoped>\n",
       "    .dataframe tbody tr th:only-of-type {\n",
       "        vertical-align: middle;\n",
       "    }\n",
       "\n",
       "    .dataframe tbody tr th {\n",
       "        vertical-align: top;\n",
       "    }\n",
       "\n",
       "    .dataframe thead th {\n",
       "        text-align: right;\n",
       "    }\n",
       "</style>\n",
       "<table border=\"1\" class=\"dataframe\">\n",
       "  <thead>\n",
       "    <tr style=\"text-align: right;\">\n",
       "      <th></th>\n",
       "      <th>Município</th>\n",
       "      <th>ibge</th>\n",
       "      <th>latitude</th>\n",
       "      <th>longitude</th>\n",
       "      <th>tx_distorcao</th>\n",
       "    </tr>\n",
       "  </thead>\n",
       "  <tbody>\n",
       "    <tr>\n",
       "      <th>0</th>\n",
       "      <td>Aceguá</td>\n",
       "      <td>4300034</td>\n",
       "      <td>-31.86076</td>\n",
       "      <td>-54.16706</td>\n",
       "      <td>25,7</td>\n",
       "    </tr>\n",
       "    <tr>\n",
       "      <th>1</th>\n",
       "      <td>Água Santa</td>\n",
       "      <td>4300059</td>\n",
       "      <td>-28.16720</td>\n",
       "      <td>-52.03100</td>\n",
       "      <td>14,7</td>\n",
       "    </tr>\n",
       "    <tr>\n",
       "      <th>2</th>\n",
       "      <td>Agudo</td>\n",
       "      <td>4300109</td>\n",
       "      <td>-29.64470</td>\n",
       "      <td>-53.25150</td>\n",
       "      <td>26,4</td>\n",
       "    </tr>\n",
       "    <tr>\n",
       "      <th>3</th>\n",
       "      <td>Ajuricaba</td>\n",
       "      <td>4300208</td>\n",
       "      <td>-28.23420</td>\n",
       "      <td>-53.77570</td>\n",
       "      <td>24,1</td>\n",
       "    </tr>\n",
       "    <tr>\n",
       "      <th>4</th>\n",
       "      <td>Alecrim</td>\n",
       "      <td>4300307</td>\n",
       "      <td>-27.65790</td>\n",
       "      <td>-54.76490</td>\n",
       "      <td>18,9</td>\n",
       "    </tr>\n",
       "  </tbody>\n",
       "</table>\n",
       "</div>"
      ],
      "text/plain": [
       "    Município     ibge  latitude  longitude tx_distorcao\n",
       "0      Aceguá  4300034 -31.86076  -54.16706         25,7\n",
       "1  Água Santa  4300059 -28.16720  -52.03100         14,7\n",
       "2       Agudo  4300109 -29.64470  -53.25150         26,4\n",
       "3   Ajuricaba  4300208 -28.23420  -53.77570         24,1\n",
       "4     Alecrim  4300307 -27.65790  -54.76490         18,9"
      ]
     },
     "execution_count": 7,
     "metadata": {},
     "output_type": "execute_result"
    }
   ],
   "source": [
    "#Renomeando colunas\n",
    "df = df.rename(columns={'/Educação/Ens...de Série/Total 2013 (-)': 'tx_distorcao'})\n",
    "\n",
    "df.head()"
   ]
  },
  {
   "cell_type": "code",
   "execution_count": 8,
   "metadata": {},
   "outputs": [
    {
     "name": "stdout",
     "output_type": "stream",
     "text": [
      "<class 'pandas.core.frame.DataFrame'>\n",
      "RangeIndex: 495 entries, 0 to 494\n",
      "Data columns (total 5 columns):\n",
      "Município       495 non-null object\n",
      "ibge            495 non-null int64\n",
      "latitude        495 non-null float64\n",
      "longitude       495 non-null float64\n",
      "tx_distorcao    495 non-null object\n",
      "dtypes: float64(2), int64(1), object(2)\n",
      "memory usage: 19.4+ KB\n"
     ]
    }
   ],
   "source": [
    "#Verificar os tipos\n",
    "df.info()"
   ]
  },
  {
   "cell_type": "code",
   "execution_count": 9,
   "metadata": {},
   "outputs": [
    {
     "data": {
      "text/html": [
       "<div>\n",
       "<style scoped>\n",
       "    .dataframe tbody tr th:only-of-type {\n",
       "        vertical-align: middle;\n",
       "    }\n",
       "\n",
       "    .dataframe tbody tr th {\n",
       "        vertical-align: top;\n",
       "    }\n",
       "\n",
       "    .dataframe thead th {\n",
       "        text-align: right;\n",
       "    }\n",
       "</style>\n",
       "<table border=\"1\" class=\"dataframe\">\n",
       "  <thead>\n",
       "    <tr style=\"text-align: right;\">\n",
       "      <th></th>\n",
       "      <th>Município</th>\n",
       "      <th>ibge</th>\n",
       "      <th>latitude</th>\n",
       "      <th>longitude</th>\n",
       "      <th>tx_distorcao</th>\n",
       "    </tr>\n",
       "  </thead>\n",
       "  <tbody>\n",
       "    <tr>\n",
       "      <th>0</th>\n",
       "      <td>Aceguá</td>\n",
       "      <td>4300034</td>\n",
       "      <td>-31.86076</td>\n",
       "      <td>-54.16706</td>\n",
       "      <td>25.7</td>\n",
       "    </tr>\n",
       "    <tr>\n",
       "      <th>1</th>\n",
       "      <td>Água Santa</td>\n",
       "      <td>4300059</td>\n",
       "      <td>-28.16720</td>\n",
       "      <td>-52.03100</td>\n",
       "      <td>14.7</td>\n",
       "    </tr>\n",
       "    <tr>\n",
       "      <th>2</th>\n",
       "      <td>Agudo</td>\n",
       "      <td>4300109</td>\n",
       "      <td>-29.64470</td>\n",
       "      <td>-53.25150</td>\n",
       "      <td>26.4</td>\n",
       "    </tr>\n",
       "    <tr>\n",
       "      <th>3</th>\n",
       "      <td>Ajuricaba</td>\n",
       "      <td>4300208</td>\n",
       "      <td>-28.23420</td>\n",
       "      <td>-53.77570</td>\n",
       "      <td>24.1</td>\n",
       "    </tr>\n",
       "    <tr>\n",
       "      <th>4</th>\n",
       "      <td>Alecrim</td>\n",
       "      <td>4300307</td>\n",
       "      <td>-27.65790</td>\n",
       "      <td>-54.76490</td>\n",
       "      <td>18.9</td>\n",
       "    </tr>\n",
       "  </tbody>\n",
       "</table>\n",
       "</div>"
      ],
      "text/plain": [
       "    Município     ibge  latitude  longitude tx_distorcao\n",
       "0      Aceguá  4300034 -31.86076  -54.16706         25.7\n",
       "1  Água Santa  4300059 -28.16720  -52.03100         14.7\n",
       "2       Agudo  4300109 -29.64470  -53.25150         26.4\n",
       "3   Ajuricaba  4300208 -28.23420  -53.77570         24.1\n",
       "4     Alecrim  4300307 -27.65790  -54.76490         18.9"
      ]
     },
     "execution_count": 9,
     "metadata": {},
     "output_type": "execute_result"
    }
   ],
   "source": [
    "#Transformar as vírgulas em ponto flutuante na coluna tx_distorcao\n",
    "#Primeiro vamos trocar vírgulas por ponto\n",
    "df['tx_distorcao'] = df['tx_distorcao'].str.replace(',', '.')\n",
    "df.head()"
   ]
  },
  {
   "cell_type": "code",
   "execution_count": 10,
   "metadata": {},
   "outputs": [],
   "source": [
    "#Convertendo para ponto flutuante\n",
    "df['tx_distorcao'] = df['tx_distorcao'].astype(float)"
   ]
  },
  {
   "cell_type": "code",
   "execution_count": 11,
   "metadata": {},
   "outputs": [
    {
     "name": "stdout",
     "output_type": "stream",
     "text": [
      "<class 'pandas.core.frame.DataFrame'>\n",
      "RangeIndex: 495 entries, 0 to 494\n",
      "Data columns (total 5 columns):\n",
      "Município       495 non-null object\n",
      "ibge            495 non-null int64\n",
      "latitude        495 non-null float64\n",
      "longitude       495 non-null float64\n",
      "tx_distorcao    495 non-null float64\n",
      "dtypes: float64(3), int64(1), object(1)\n",
      "memory usage: 19.4+ KB\n"
     ]
    }
   ],
   "source": [
    "df.info()"
   ]
  },
  {
   "cell_type": "code",
   "execution_count": 12,
   "metadata": {},
   "outputs": [
    {
     "data": {
      "text/html": [
       "<div>\n",
       "<style scoped>\n",
       "    .dataframe tbody tr th:only-of-type {\n",
       "        vertical-align: middle;\n",
       "    }\n",
       "\n",
       "    .dataframe tbody tr th {\n",
       "        vertical-align: top;\n",
       "    }\n",
       "\n",
       "    .dataframe thead th {\n",
       "        text-align: right;\n",
       "    }\n",
       "</style>\n",
       "<table border=\"1\" class=\"dataframe\">\n",
       "  <thead>\n",
       "    <tr style=\"text-align: right;\">\n",
       "      <th></th>\n",
       "      <th>Município</th>\n",
       "      <th>ibge</th>\n",
       "      <th>latitude</th>\n",
       "      <th>longitude</th>\n",
       "      <th>tx_distorcao</th>\n",
       "    </tr>\n",
       "  </thead>\n",
       "  <tbody>\n",
       "    <tr>\n",
       "      <th>490</th>\n",
       "      <td>Vista Alegre do Prata</td>\n",
       "      <td>4323606</td>\n",
       "      <td>-28.8052</td>\n",
       "      <td>-51.7946</td>\n",
       "      <td>2.6</td>\n",
       "    </tr>\n",
       "    <tr>\n",
       "      <th>375</th>\n",
       "      <td>Santo Antônio do Palma</td>\n",
       "      <td>4317558</td>\n",
       "      <td>-28.4956</td>\n",
       "      <td>-52.0267</td>\n",
       "      <td>4.3</td>\n",
       "    </tr>\n",
       "    <tr>\n",
       "      <th>28</th>\n",
       "      <td>Áurea</td>\n",
       "      <td>4301552</td>\n",
       "      <td>-27.6936</td>\n",
       "      <td>-52.0505</td>\n",
       "      <td>5.8</td>\n",
       "    </tr>\n",
       "    <tr>\n",
       "      <th>268</th>\n",
       "      <td>Nicolau Vergueiro</td>\n",
       "      <td>4312674</td>\n",
       "      <td>-28.5298</td>\n",
       "      <td>-52.4676</td>\n",
       "      <td>7.0</td>\n",
       "    </tr>\n",
       "    <tr>\n",
       "      <th>128</th>\n",
       "      <td>Derrubadas</td>\n",
       "      <td>4306320</td>\n",
       "      <td>-27.2642</td>\n",
       "      <td>-53.8645</td>\n",
       "      <td>7.4</td>\n",
       "    </tr>\n",
       "    <tr>\n",
       "      <th>119</th>\n",
       "      <td>Cotiporã</td>\n",
       "      <td>4305959</td>\n",
       "      <td>-28.9891</td>\n",
       "      <td>-51.6971</td>\n",
       "      <td>7.5</td>\n",
       "    </tr>\n",
       "    <tr>\n",
       "      <th>68</th>\n",
       "      <td>Campestre da Serra</td>\n",
       "      <td>4303673</td>\n",
       "      <td>-28.7926</td>\n",
       "      <td>-51.0941</td>\n",
       "      <td>7.6</td>\n",
       "    </tr>\n",
       "    <tr>\n",
       "      <th>476</th>\n",
       "      <td>Vanini</td>\n",
       "      <td>4322558</td>\n",
       "      <td>-28.4758</td>\n",
       "      <td>-51.8447</td>\n",
       "      <td>7.8</td>\n",
       "    </tr>\n",
       "    <tr>\n",
       "      <th>236</th>\n",
       "      <td>Linha Nova</td>\n",
       "      <td>4311643</td>\n",
       "      <td>-29.4679</td>\n",
       "      <td>-51.2003</td>\n",
       "      <td>8.0</td>\n",
       "    </tr>\n",
       "    <tr>\n",
       "      <th>392</th>\n",
       "      <td>São José do Inhacorá</td>\n",
       "      <td>4318499</td>\n",
       "      <td>-27.7251</td>\n",
       "      <td>-54.1275</td>\n",
       "      <td>8.0</td>\n",
       "    </tr>\n",
       "  </tbody>\n",
       "</table>\n",
       "</div>"
      ],
      "text/plain": [
       "                  Município     ibge  latitude  longitude  tx_distorcao\n",
       "490   Vista Alegre do Prata  4323606  -28.8052   -51.7946           2.6\n",
       "375  Santo Antônio do Palma  4317558  -28.4956   -52.0267           4.3\n",
       "28                    Áurea  4301552  -27.6936   -52.0505           5.8\n",
       "268       Nicolau Vergueiro  4312674  -28.5298   -52.4676           7.0\n",
       "128              Derrubadas  4306320  -27.2642   -53.8645           7.4\n",
       "119                Cotiporã  4305959  -28.9891   -51.6971           7.5\n",
       "68       Campestre da Serra  4303673  -28.7926   -51.0941           7.6\n",
       "476                  Vanini  4322558  -28.4758   -51.8447           7.8\n",
       "236              Linha Nova  4311643  -29.4679   -51.2003           8.0\n",
       "392    São José do Inhacorá  4318499  -27.7251   -54.1275           8.0"
      ]
     },
     "execution_count": 12,
     "metadata": {},
     "output_type": "execute_result"
    }
   ],
   "source": [
    "#10 municípios com menor taxa de distorção\n",
    "df.nsmallest(10, 'tx_distorcao')"
   ]
  },
  {
   "cell_type": "code",
   "execution_count": 13,
   "metadata": {},
   "outputs": [
    {
     "data": {
      "text/html": [
       "<div>\n",
       "<style scoped>\n",
       "    .dataframe tbody tr th:only-of-type {\n",
       "        vertical-align: middle;\n",
       "    }\n",
       "\n",
       "    .dataframe tbody tr th {\n",
       "        vertical-align: top;\n",
       "    }\n",
       "\n",
       "    .dataframe thead th {\n",
       "        text-align: right;\n",
       "    }\n",
       "</style>\n",
       "<table border=\"1\" class=\"dataframe\">\n",
       "  <thead>\n",
       "    <tr style=\"text-align: right;\">\n",
       "      <th></th>\n",
       "      <th>Município</th>\n",
       "      <th>ibge</th>\n",
       "      <th>latitude</th>\n",
       "      <th>longitude</th>\n",
       "      <th>tx_distorcao</th>\n",
       "    </tr>\n",
       "  </thead>\n",
       "  <tbody>\n",
       "    <tr>\n",
       "      <th>307</th>\n",
       "      <td>Pedras Altas</td>\n",
       "      <td>4314175</td>\n",
       "      <td>-31.7217</td>\n",
       "      <td>-53.5838</td>\n",
       "      <td>56.0</td>\n",
       "    </tr>\n",
       "    <tr>\n",
       "      <th>316</th>\n",
       "      <td>Pinheiro Machado</td>\n",
       "      <td>4314506</td>\n",
       "      <td>-31.5794</td>\n",
       "      <td>-53.3798</td>\n",
       "      <td>53.9</td>\n",
       "    </tr>\n",
       "    <tr>\n",
       "      <th>17</th>\n",
       "      <td>Arambaré</td>\n",
       "      <td>4300851</td>\n",
       "      <td>-30.9093</td>\n",
       "      <td>-51.5046</td>\n",
       "      <td>52.8</td>\n",
       "    </tr>\n",
       "    <tr>\n",
       "      <th>140</th>\n",
       "      <td>Eldorado do Sul</td>\n",
       "      <td>4306767</td>\n",
       "      <td>-30.0847</td>\n",
       "      <td>-51.6187</td>\n",
       "      <td>51.9</td>\n",
       "    </tr>\n",
       "    <tr>\n",
       "      <th>35</th>\n",
       "      <td>Barra do Quaraí</td>\n",
       "      <td>4301875</td>\n",
       "      <td>-30.2029</td>\n",
       "      <td>-57.5497</td>\n",
       "      <td>51.5</td>\n",
       "    </tr>\n",
       "    <tr>\n",
       "      <th>393</th>\n",
       "      <td>São José do Norte</td>\n",
       "      <td>4318507</td>\n",
       "      <td>-32.0151</td>\n",
       "      <td>-52.0331</td>\n",
       "      <td>49.4</td>\n",
       "    </tr>\n",
       "    <tr>\n",
       "      <th>413</th>\n",
       "      <td>São Valério do Sul</td>\n",
       "      <td>4319737</td>\n",
       "      <td>-27.7906</td>\n",
       "      <td>-53.9368</td>\n",
       "      <td>49.2</td>\n",
       "    </tr>\n",
       "    <tr>\n",
       "      <th>193</th>\n",
       "      <td>Hulha Negra</td>\n",
       "      <td>4309654</td>\n",
       "      <td>-31.4067</td>\n",
       "      <td>-53.8667</td>\n",
       "      <td>49.0</td>\n",
       "    </tr>\n",
       "    <tr>\n",
       "      <th>106</th>\n",
       "      <td>Chuí</td>\n",
       "      <td>4305439</td>\n",
       "      <td>-33.6866</td>\n",
       "      <td>-53.4594</td>\n",
       "      <td>48.6</td>\n",
       "    </tr>\n",
       "    <tr>\n",
       "      <th>233</th>\n",
       "      <td>Lavras do Sul</td>\n",
       "      <td>4311502</td>\n",
       "      <td>-30.8071</td>\n",
       "      <td>-53.8931</td>\n",
       "      <td>47.7</td>\n",
       "    </tr>\n",
       "  </tbody>\n",
       "</table>\n",
       "</div>"
      ],
      "text/plain": [
       "              Município     ibge  latitude  longitude  tx_distorcao\n",
       "307        Pedras Altas  4314175  -31.7217   -53.5838          56.0\n",
       "316    Pinheiro Machado  4314506  -31.5794   -53.3798          53.9\n",
       "17             Arambaré  4300851  -30.9093   -51.5046          52.8\n",
       "140     Eldorado do Sul  4306767  -30.0847   -51.6187          51.9\n",
       "35      Barra do Quaraí  4301875  -30.2029   -57.5497          51.5\n",
       "393   São José do Norte  4318507  -32.0151   -52.0331          49.4\n",
       "413  São Valério do Sul  4319737  -27.7906   -53.9368          49.2\n",
       "193         Hulha Negra  4309654  -31.4067   -53.8667          49.0\n",
       "106                Chuí  4305439  -33.6866   -53.4594          48.6\n",
       "233       Lavras do Sul  4311502  -30.8071   -53.8931          47.7"
      ]
     },
     "execution_count": 13,
     "metadata": {},
     "output_type": "execute_result"
    }
   ],
   "source": [
    "#10 municípios com maior taxa de distorção\n",
    "df.nlargest(10, 'tx_distorcao')"
   ]
  },
  {
   "cell_type": "code",
   "execution_count": 14,
   "metadata": {},
   "outputs": [
    {
     "data": {
      "text/plain": [
       "<matplotlib.axes._subplots.AxesSubplot at 0xe37d96e0f0>"
      ]
     },
     "execution_count": 14,
     "metadata": {},
     "output_type": "execute_result"
    },
    {
     "data": {
      "image/png": "[encoded data removed]",
      "text/plain": [
       "<Figure size 432x288 with 1 Axes>"
      ]
     },
     "metadata": {
      "needs_background": "light"
     },
     "output_type": "display_data"
    }
   ],
   "source": [
    "#Plotando o histograma da taxa de distorção\n",
    "df['tx_distorcao'].plot.hist(bins=100)"
   ]
  },
  {
   "cell_type": "code",
   "execution_count": 15,
   "metadata": {},
   "outputs": [
    {
     "data": {
      "text/plain": [
       "Município       17\n",
       "ibge            17\n",
       "latitude        17\n",
       "longitude       17\n",
       "tx_distorcao    17\n",
       "dtype: int64"
      ]
     },
     "execution_count": 15,
     "metadata": {},
     "output_type": "execute_result"
    }
   ],
   "source": [
    "#Quantidade de municípios com taxa de distorção <=10\n",
    "df[df['tx_distorcao']<=10].count()"
   ]
  },
  {
   "cell_type": "code",
   "execution_count": 16,
   "metadata": {},
   "outputs": [
    {
     "data": {
      "text/plain": [
       "Município       17\n",
       "ibge            17\n",
       "latitude        17\n",
       "longitude       17\n",
       "tx_distorcao    17\n",
       "dtype: int64"
      ]
     },
     "execution_count": 16,
     "metadata": {},
     "output_type": "execute_result"
    }
   ],
   "source": [
    "#Quantidade de municípios com taxa de distorção >=45\n",
    "df[df['tx_distorcao'] >=45].count()"
   ]
  },
  {
   "cell_type": "code",
   "execution_count": 20,
   "metadata": {},
   "outputs": [],
   "source": [
    "#vamos aprender como o Folium funciona\n",
    "#Criar um mapa com base em uma coordenada central (latitude, longitude de um ponto inicial)\n",
    "brasil = folium.Map(location=[-13.6603615, -69.6775883],\n",
    "         zoom_start=25\n",
    "        )"
   ]
  },
  {
   "cell_type": "code",
   "execution_count": 21,
   "metadata": {},
   "outputs": [
    {
     "data": {
      "text/html": [
       "<div style=\"width:100%;\"><div style=\"position:relative;width:100%;height:0;padding-bottom:60%;\"><iframe src=\"data:text/html;charset=utf-8;base64,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\" style=\"position:absolute;width:100%;height:100%;left:0;top:0;border:none !important;\" allowfullscreen webkitallowfullscreen mozallowfullscreen></iframe></div></div>"
      ],
      "text/plain": [
       "<folium.folium.Map at 0xe302426358>"
      ]
     },
     "execution_count": 21,
     "metadata": {},
     "output_type": "execute_result"
    }
   ],
   "source": [
    "#Mostrando o mapa\n",
    "brasil"
   ]
  },
  {
   "cell_type": "code",
   "execution_count": 32,
   "metadata": {},
   "outputs": [
    {
     "data": {
      "text/html": [
       "<div style=\"width:100%;\"><div style=\"position:relative;width:100%;height:0;padding-bottom:60%;\"><iframe src=\"data:text/html;charset=utf-8;base64,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\" style=\"position:absolute;width:100%;height:100%;left:0;top:0;border:none !important;\" allowfullscreen webkitallowfullscreen mozallowfullscreen></iframe></div></div>"
      ],
      "text/plain": [
       "<folium.folium.Map at 0xe302337c88>"
      ]
     },
     "execution_count": 32,
     "metadata": {},
     "output_type": "execute_result"
    }
   ],
   "source": [
    "#Criando um mapa do Rio Grande do Sul\n",
    "#Criar um mapa com base em uma coordenada central (latitude, longitude de um ponto inicial)\n",
    "rs = folium.Map(location=[-30.5, -52],\n",
    "         zoom_start=6\n",
    "        )\n",
    "\n",
    "rs"
   ]
  },
  {
   "cell_type": "code",
   "execution_count": 34,
   "metadata": {},
   "outputs": [
    {
     "data": {
      "text/html": [
       "<div style=\"width:100%;\"><div style=\"position:relative;width:100%;height:0;padding-bottom:60%;\"><iframe src=\"data:text/html;charset=utf-8;base64,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\" style=\"position:absolute;width:100%;height:100%;left:0;top:0;border:none !important;\" allowfullscreen webkitallowfullscreen mozallowfullscreen></iframe></div></div>"
      ],
      "text/plain": [
       "<folium.folium.Map at 0xe302337c88>"
      ]
     },
     "execution_count": 34,
     "metadata": {},
     "output_type": "execute_result"
    }
   ],
   "source": [
    "#Percorrer o data frame com base nas melhores escolas (tx_distorcao<=10) e desenhar um marcador para cada escola\n",
    "#Usaremos for e iterrows \n",
    "for indice, municipio in df[df['tx_distorcao']<=10].iterrows():\n",
    "    folium.Marker(\n",
    "        location=[municipio['latitude'], municipio['longitude']],\n",
    "        popup = municipio['Município'],\n",
    "        icon= folium.map.Icon(color='green')).add_to(rs)\n",
    "    \n",
    "rs"
   ]
  },
  {
   "cell_type": "code",
   "execution_count": 35,
   "metadata": {},
   "outputs": [
    {
     "data": {
      "text/html": [
       "<div style=\"width:100%;\"><div style=\"position:relative;width:100%;height:0;padding-bottom:60%;\"><iframe src=\"data:text/html;charset=utf-8;base64,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\" style=\"position:absolute;width:100%;height:100%;left:0;top:0;border:none !important;\" allowfullscreen webkitallowfullscreen mozallowfullscreen></iframe></div></div>"
      ],
      "text/plain": [
       "<folium.folium.Map at 0xe302337c88>"
      ]
     },
     "execution_count": 35,
     "metadata": {},
     "output_type": "execute_result"
    }
   ],
   "source": [
    "#Percorrer o data frame com base nas piores escolas (tx_distorcao>=45) e desenhar um marcador para cada escola\n",
    "#Usaremos for e iterrows \n",
    "for indice, municipio in df[df['tx_distorcao']>=45].iterrows():\n",
    "    folium.Marker(\n",
    "        location=[municipio['latitude'], municipio['longitude']],\n",
    "        popup = municipio['Município'],\n",
    "        icon= folium.map.Icon(color='red')).add_to(rs)\n",
    "    \n",
    "rs"
   ]
  },
  {
   "cell_type": "code",
   "execution_count": 36,
   "metadata": {},
   "outputs": [
    {
     "data": {
      "text/plain": [
       "325    32.3\n",
       "Name: tx_distorcao, dtype: float64"
      ]
     },
     "execution_count": 36,
     "metadata": {},
     "output_type": "execute_result"
    }
   ],
   "source": [
    "#QUal a taxa de distorção de Porto Alegre\n",
    "df[df['Município'] == 'Porto Alegre']['tx_distorcao']"
   ]
  },
  {
   "cell_type": "code",
   "execution_count": null,
   "metadata": {},
   "outputs": [],
   "source": []
  }
 ],
 "metadata": {
  "kernelspec": {
   "display_name": "Python 3",
   "language": "python",
   "name": "python3"
  },
  "language_info": {
   "codemirror_mode": {
    "name": "ipython",
    "version": 3
   },
   "file_extension": ".py",
   "mimetype": "text/x-python",
   "name": "python",
   "nbconvert_exporter": "python",
   "pygments_lexer": "ipython3",
   "version": "3.7.1"
  }
 },
 "nbformat": 4,
 "nbformat_minor": 2
}
